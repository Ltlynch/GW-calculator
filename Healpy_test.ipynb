{
 "cells": [
  {
   "cell_type": "code",
   "execution_count": 1,
   "metadata": {},
   "outputs": [],
   "source": [
    "%matplotlib inline\n",
    "import numpy as np\n",
    "import healpy as hp\n",
    "import pandas as pd\n",
    "import scipy.constants as const\n",
    "from astropy.io import fits\n",
    "from astropy.cosmology import WMAP5\n",
    "from astropy import units as u\n",
    "from astropy.coordinates import SkyCoord"
   ]
  },
  {
   "cell_type": "code",
   "execution_count": null,
   "metadata": {},
   "outputs": [],
   "source": []
  },
  {
   "cell_type": "code",
   "execution_count": 2,
   "metadata": {},
   "outputs": [],
   "source": [
    "# User Inputs\n",
    "\n",
    "#theta, phi, ul, ul_err = np.loadtxt('11yr_skymap_v4.txt', skiprows=1, unpack=True, usecols=(1,2,3,4))\n",
    "data = np.genfromtxt('cgi-bin/11yr_skymap_v4.txt', names=True)\n",
    "#print(data['ul'])\n",
    "\n",
    "# TODO: Put unit conversion for latitude\n",
    "input_theta = .35\n",
    "input_phi = 4.2\n",
    "\n",
    "input_long = \"43°2’27”\"\n",
    "input_lat = 40\n",
    "\n"
   ]
  },
  {
   "cell_type": "code",
   "execution_count": 3,
   "metadata": {},
   "outputs": [],
   "source": [
    "orbital_s = 10.\n",
    "orbital_p = 400.\n",
    "\n",
    "# These unit conversions by no means need to be functions, just did so to make it clear for now\n",
    "def yrs_to_s(years):\n",
    "    return years*365*24*3600\n",
    "def pc_to_m(pc):\n",
    "    return pc*3.0856776e16\n",
    "def kg_to_M0(kg):\n",
    "    return kg/1.98847e30\n",
    "def M0_to_kg(M0):\n",
    "    return M0*1.98847e30\n",
    "def m_to_pc(m):\n",
    "    return m/30856776e9\n",
    "def s_to_yrs(s):\n",
    "    return s/(365*24*3600)"
   ]
  },
  {
   "cell_type": "code",
   "execution_count": 4,
   "metadata": {},
   "outputs": [
    {
     "name": "stdout",
     "output_type": "stream",
     "text": [
      "6.866e+12\n"
     ]
    }
   ],
   "source": [
    "def totalmasscalc(orbital_s, orbital_p): \n",
    "    return kg_to_M0((4*(const.pi**2)*(pc_to_m(orbital_s/2))**3)/(const.G * (yrs_to_s(orbital_p))**2))\n",
    "\n",
    "print(\"{:.3e}\".format(totalmasscalc(10, 400)))"
   ]
  },
  {
   "cell_type": "code",
   "execution_count": 5,
   "metadata": {
    "scrolled": true
   },
   "outputs": [
    {
     "name": "stdout",
     "output_type": "stream",
     "text": [
      "10.00\n"
     ]
    }
   ],
   "source": [
    "def orbitalsepcalc(total_m, orbital_p):\n",
    "    return 2*np.cbrt((const.G * M0_to_kg(total_m) * yrs_to_s(orbital_p)**2)/(4*(const.pi)**2))\n",
    "print(\"{:.2f}\".format(m_to_pc(orbitalsepcalc(6.865588e+12, 400))))"
   ]
  },
  {
   "cell_type": "code",
   "execution_count": 6,
   "metadata": {},
   "outputs": [
    {
     "name": "stdout",
     "output_type": "stream",
     "text": [
      "400.00\n"
     ]
    }
   ],
   "source": [
    "def orbitalpercalc(total_m, orbital_s):\n",
    "    return s_to_yrs(np.sqrt((4 * (const.pi**2) * (pc_to_m(orbital_s)/2)**3)/(const.G * M0_to_kg(total_m))))\n",
    "print(\"{:.2f}\".format(orbitalpercalc(6.865588e+12, 10)))"
   ]
  },
  {
   "cell_type": "code",
   "execution_count": 7,
   "metadata": {},
   "outputs": [
    {
     "name": "stdout",
     "output_type": "stream",
     "text": [
      "100.71 Mpc\n"
     ]
    }
   ],
   "source": [
    "#TODO: Either use astropy or manual linear approximation. Eventually would like to implement full expansion\n",
    "# For astropy don't forget to strip units and convert to float\n",
    "distance = .0237\n",
    "def distancecalc(redshift):\n",
    "    return (WMAP5.comoving_distance(redshift))\n",
    "print(\"{:.2f}\".format(distancecalc(.0237)))"
   ]
  },
  {
   "cell_type": "code",
   "execution_count": 8,
   "metadata": {},
   "outputs": [
    {
     "name": "stdout",
     "output_type": "stream",
     "text": [
      "299792.458\n",
      "0.023515384766617443\n",
      "0.02352\n"
     ]
    }
   ],
   "source": [
    "# TODO: This is the linear approximation I was talking about. Both will likely change slightly\n",
    "# Ok so this answer seems really wrong, but actually that's just cuz it turns out this linear approximation is just really bad at long AND short distances. Will be fixed with full expansion.\n",
    "def redshiftcalc(distance):\n",
    "    H0 = 70\n",
    "    return (distance*H0)/(const.c*1e-3)\n",
    "print(const.c*1e-3)\n",
    "print(redshiftcalc(100.7105))\n",
    "print(round(float(redshiftcalc(100.71)), 5))"
   ]
  },
  {
   "cell_type": "code",
   "execution_count": 9,
   "metadata": {
    "scrolled": true
   },
   "outputs": [
    {
     "name": "stdout",
     "output_type": "stream",
     "text": [
      "4.093425911060579\n"
     ]
    }
   ],
   "source": [
    "# TODO: Haven't done these units yet\n",
    "def gwave_strain(total_m, orbital_p, distance):\n",
    "    return 190 * (((total_m)/10e9)**(5./3.)) * ((orbital_p)**(1./3.)) * (100/distance)\n",
    "print(gwave_strain(1e9, 1, 100))"
   ]
  },
  {
   "cell_type": "code",
   "execution_count": 10,
   "metadata": {
    "scrolled": true
   },
   "outputs": [],
   "source": [
    "#c1 = fits.Column(name='theta', array= theta, format=('D'))\n",
    "#c2 = fits.Column(name='phi', array= phi, format=('D'))\n",
    "#c3 = fits.Column(name='ul', array= ul, format=('D'))\n",
    "#c4 = fits.Column(name='ul_err', array= ul_err, format=('D'))\n",
    "#t = fits.BinTableHDU.from_columns([c1, c2, c3, c4])\n",
    "#t.writeto('ul.fits', overwrite=True)\n",
    "#skymap = hp.fitsfunc.mrdfits(t)\n",
    "#hp.mollview(skymap, title= 'Upper Limit Skymap')\n"
   ]
  },
  {
   "cell_type": "code",
   "execution_count": 11,
   "metadata": {},
   "outputs": [],
   "source": [
    "#x = radius * cos(latitude) * cos(longitude)\n",
    "#y = radius * cos(latitude) * sin(longitude)\n",
    "#z = radius * sin(latitude)"
   ]
  },
  {
   "cell_type": "code",
   "execution_count": 86,
   "metadata": {},
   "outputs": [
    {
     "name": "stdout",
     "output_type": "stream",
     "text": [
      "[1.2259811910725494e-14, 6.941204752669899e-15, 3.9220567644265986e-15, 1.7882960905299605e-15, 1.0319919676155025e-16]\n",
      "[7.079036886995657e-15, 3.769767066212324e-15, 2.0620270892230484e-15, 9.88935403750496e-16, 4.980894668872565e-17]\n",
      "[1.2259811910725494e-14, 6.941204752669899e-15, 3.9220567644265986e-15, 1.7882960905299605e-15, 1.0319919676155025e-16]\n",
      "[3.2923820002780754e-14, 1.8974002731068393e-14, 1.0799569916639287e-14, 5.572802504361285e-15, 3.333765316351709e-16]\n",
      "[1.0458683482985961e-13, 6.553025393560056e-14, 4.3218450490873134e-14, 2.2968678479021933e-14, 1.8279675436005805e-15]\n"
     ]
    }
   ],
   "source": [
    "import os\n",
    "class skymap:\n",
    "    def __init__(self, ulfile, pixelfile):\n",
    "        assert(type(ulfile) == str and type(pixelfile) == str)\n",
    "        assert(os.path.isfile(ulfile) and os.path.isfile(pixelfile))\n",
    "        \n",
    "        ul = np.loadtxt(ulfile)\n",
    "        pixel = np.genfromtxt(pixelfile, names = True)\n",
    "        \n",
    "        self.theta = pixel['theta']\n",
    "        self.phi = pixel['phi']\n",
    "        \n",
    "        self.map_dictionary = {}\n",
    "        self.map_dictionary[95] = self.create_map(ul[:,1])\n",
    "        self.map_dictionary[75] = self.create_map(ul[:,2])\n",
    "        self.map_dictionary[50] = self.create_map(ul[:,3])\n",
    "        self.map_dictionary[25] = self.create_map(ul[:,4])\n",
    "        self.map_dictionary[1] = self.create_map(ul[:,5])\n",
    "    \n",
    "    def create_map(self, ulcolumn):\n",
    "        npix = len(self.theta)\n",
    "        nside = hp.npix2nside(npix)\n",
    "        indices = hp.ang2pix(nside, self.theta, self.phi)\n",
    "        skymap = np.zeros(npix, dtype=np.float)\n",
    "        skymap[indices] += ulcolumn[indices]\n",
    "        return skymap\n",
    "    \n",
    "    def interpolate(self, conf, theta, phi):\n",
    "        if conf == 'all':\n",
    "            maps = []\n",
    "            for value in self.map_dictionary.values():\n",
    "                maps.append(hp.pixelfunc.get_interp_val(value, theta, phi))\n",
    "            return maps\n",
    "        else:\n",
    "            return hp.pixelfunc.get_interp_val(self.map_dictionary[conf], theta, phi)\n",
    "    \n",
    "    def plot(self, confidence):\n",
    "        hp.mollview(np.log10(self.map_dictionary[confidence]), title= 'Upper Limit Skymap')  \n",
    "\n",
    "skymap3nHz = skymap('cw_maps/uls_smoothed_3nHz.txt', 'cw_maps/skymap_pixels.txt')\n",
    "skymap10nHz = skymap('cw_maps/uls_smoothed_10nHz.txt', 'cw_maps/skymap_pixels.txt')\n",
    "skymap31nHz = skymap('cw_maps/uls_smoothed_31nHz.txt','cw_maps/skymap_pixels.txt')\n",
    "skymap100nHz = skymap('cw_maps/uls_smoothed_100nHz.txt','cw_maps/skymap_pixels.txt')\n",
    "skymap318nHz = skymap('cw_maps/uls_smoothed_318nHz.txt','cw_maps/skymap_pixels.txt')\n",
    "skymap.plot(95)\n",
    "\n",
    "input_theta = .3\n",
    "input_phi = .4\n",
    "input_freq = \n",
    "\n",
    "\n",
    "print(skymap3nHz.interpolate('all', input_theta, input_phi))\n",
    "print(skymap10nHz.interpolate('all', input_theta, input_phi))\n",
    "print(skymap31nHz.interpolate('all', input_theta, input_phi))\n",
    "print(skymap100nHz.interpolate('all', input_theta, input_phi))\n",
    "print(skymap318nHz.interpolate('all', input_theta, input_phi))"
   ]
  },
  {
   "cell_type": "code",
   "execution_count": null,
   "metadata": {},
   "outputs": [],
   "source": [
    "def find_ul(skymap, theta, phi):\n",
    "    return hp.pixelfunc.get_interp_val(skymap, theta, phi)\n",
    "\n",
    "def create_map(theta, phi, ul): \n",
    "    nside = 8\n",
    "    npix = hp.nside2npix(nside)\n",
    "    indices = hp.ang2pix(nside, theta, phi)\n",
    "    skymap = np.zeros(npix, dtype=np.float)\n",
    "    skymap[indices] += ul[indices]\n",
    "    hp.mollview(np.log10(skymap), title= 'Upper Limit Skymap')\n",
    "    return skymap\n",
    "skymap1 = create_map(data['theta'], data['phi'], ul1)"
   ]
  },
  {
   "cell_type": "code",
   "execution_count": null,
   "metadata": {},
   "outputs": [],
   "source": [
    "input_freq = 3e-9\n",
    "\n",
    "freq_ul_array = []\n",
    "\n",
    "freq_array = np.array([find_ul(skymap1, input_theta, input_phi), find_ul(skymap2, input_theta, input_phi)])\n",
    "print(freq_array)\n",
    "sig_array = np.array([find_ul(skymap3, input_theta, input_phi), find_ul(skymap4, input_theta, input_phi)])\n",
    "print(sig_array)"
   ]
  },
  {
   "cell_type": "code",
   "execution_count": null,
   "metadata": {},
   "outputs": [],
   "source": [
    "min_location = np.where(data['ul'] == data['ul'].min())[0]\n",
    "theta_min, phi_min = hp.pix2ang(nside, min_location)\n",
    "\n",
    "max_location = np.where(data['ul'] == data['ul'].max())[0]\n",
    "theta_max, phi_max = hp.pix2ang(nside, max_location)"
   ]
  },
  {
   "cell_type": "code",
   "execution_count": null,
   "metadata": {},
   "outputs": [],
   "source": [
    "# TODO: Maybe figure out plotting stuff so that I can put a marker on the skymap based on the input theta and phi. Easy part is I know exactly how to find that pixel now, hard part is plotting these is ridiculous.\n",
    "#def find_ul(skymap, theta, phi):\n",
    "#    return hp.pixelfunc.get_interp_val(skymap, theta, phi)\n",
    "\n",
    "#print(\"The interpolated gravitational wave strain for theta = {0:.3f}, phi = {1:.3f} is: {2:.3e}\".format(input_theta, input_phi, find_ul(input_theta, input_phi)))\n",
    "#print(\"For Context: \")\n",
    "#print('Least sensitive sky location is at theta = {0:.3f}, phi = {1:.3f}, with a value of {2:.3e}'.format(float(theta_max), float(phi_max), float(data['ul'][min_location])))\n",
    "#print('Most sensitive sky location:  theta_min = {0:.3f}, phi_min = {1:.3f}, with a value of {2:.3e}'.format(float(theta_min), float(phi_min), float(data['ul'][max_location])))\n"
   ]
  },
  {
   "cell_type": "code",
   "execution_count": null,
   "metadata": {},
   "outputs": [],
   "source": []
  },
  {
   "cell_type": "code",
   "execution_count": null,
   "metadata": {},
   "outputs": [],
   "source": [
    "theta = '30.40'\n",
    "hours, minutes = theta.split('.')\n",
    "position_ra = '20h14m00.01s'"
   ]
  },
  {
   "cell_type": "code",
   "execution_count": null,
   "metadata": {},
   "outputs": [],
   "source": [
    "RA_hours = position_ra.replace('h',',').replace('m', ',').replace('s', ',').split(',')"
   ]
  },
  {
   "cell_type": "code",
   "execution_count": null,
   "metadata": {},
   "outputs": [],
   "source": [
    "theta = float(RA_hours[0]) + float(RA_hours[1])/60 + float(RA_hours[2])/3600"
   ]
  },
  {
   "cell_type": "code",
   "execution_count": null,
   "metadata": {},
   "outputs": [],
   "source": [
    "print(theta)"
   ]
  },
  {
   "cell_type": "code",
   "execution_count": null,
   "metadata": {},
   "outputs": [],
   "source": [
    "dec_hours = '+{0}d{1}m'.format(hours, minutes)\n",
    "print(dec_hours)"
   ]
  },
  {
   "cell_type": "code",
   "execution_count": null,
   "metadata": {},
   "outputs": [],
   "source": [
    "a = SkyCoord(position_ra, dec_hours, frame='icrs')\n",
    "print(a.ra.degree)  "
   ]
  },
  {
   "cell_type": "code",
   "execution_count": null,
   "metadata": {},
   "outputs": [],
   "source": [
    "mass = 1e9\n",
    "DL = 100\n",
    "zeta = mass**(5/3)/DL\n",
    "\n",
    "a(n) = n * zeta * (2*pi*freq)**(2/3) * np.Cos(n*l(t))\n",
    "\n",
    "J(n-2, ne - 2*e*j)"
   ]
  },
  {
   "cell_type": "code",
   "execution_count": null,
   "metadata": {},
   "outputs": [],
   "source": [
    "def s_plus(xa, xb):\n",
    "    return 7/15(xa(n)**2 + xb(n)**2) + 4/15*xc(n)**2\n",
    "test = s_plus()"
   ]
  },
  {
   "cell_type": "code",
   "execution_count": null,
   "metadata": {},
   "outputs": [],
   "source": [
    "import scipy.special as spec\n",
    "import matplotlib.pyplot as plt"
   ]
  },
  {
   "cell_type": "code",
   "execution_count": null,
   "metadata": {},
   "outputs": [],
   "source": [
    "n = np.arange(10)\n",
    "x = np.arange(10)\n",
    "J0 = lambda x: spec.jn(n, x)\n",
    "\n",
    "plt.plot(x, J0(x))\n",
    "plt.show()"
   ]
  },
  {
   "cell_type": "code",
   "execution_count": null,
   "metadata": {},
   "outputs": [],
   "source": []
  }
 ],
 "metadata": {
  "kernelspec": {
   "display_name": "Python 3",
   "language": "python",
   "name": "python3"
  },
  "language_info": {
   "codemirror_mode": {
    "name": "ipython",
    "version": 3
   },
   "file_extension": ".py",
   "mimetype": "text/x-python",
   "name": "python",
   "nbconvert_exporter": "python",
   "pygments_lexer": "ipython3",
   "version": "3.6.5"
  }
 },
 "nbformat": 4,
 "nbformat_minor": 2
}
